{
 "cells": [
  {
   "cell_type": "code",
   "execution_count": 30,
   "metadata": {},
   "outputs": [],
   "source": [
    "import pandas as pd\n",
    "from sklearn.neighbors import KNeighborsClassifier\n",
    "from sklearn.model_selection import train_test_split\n",
    "from sklearn.metrics import accuracy_score\n"
   ]
  },
  {
   "cell_type": "code",
   "execution_count": 31,
   "metadata": {},
   "outputs": [
    {
     "data": {
      "text/html": [
       "<div>\n",
       "<style scoped>\n",
       "    .dataframe tbody tr th:only-of-type {\n",
       "        vertical-align: middle;\n",
       "    }\n",
       "\n",
       "    .dataframe tbody tr th {\n",
       "        vertical-align: top;\n",
       "    }\n",
       "\n",
       "    .dataframe thead th {\n",
       "        text-align: right;\n",
       "    }\n",
       "</style>\n",
       "<table border=\"1\" class=\"dataframe\">\n",
       "  <thead>\n",
       "    <tr style=\"text-align: right;\">\n",
       "      <th></th>\n",
       "      <th>R_1</th>\n",
       "      <th>R_2</th>\n",
       "      <th>Q</th>\n",
       "    </tr>\n",
       "  </thead>\n",
       "  <tbody>\n",
       "    <tr>\n",
       "      <th>0</th>\n",
       "      <td>0.051267</td>\n",
       "      <td>0.699560</td>\n",
       "      <td>1</td>\n",
       "    </tr>\n",
       "    <tr>\n",
       "      <th>1</th>\n",
       "      <td>-0.092742</td>\n",
       "      <td>0.684940</td>\n",
       "      <td>1</td>\n",
       "    </tr>\n",
       "    <tr>\n",
       "      <th>2</th>\n",
       "      <td>-0.213710</td>\n",
       "      <td>0.692250</td>\n",
       "      <td>1</td>\n",
       "    </tr>\n",
       "    <tr>\n",
       "      <th>3</th>\n",
       "      <td>-0.375000</td>\n",
       "      <td>0.502190</td>\n",
       "      <td>1</td>\n",
       "    </tr>\n",
       "    <tr>\n",
       "      <th>4</th>\n",
       "      <td>-0.513250</td>\n",
       "      <td>0.465640</td>\n",
       "      <td>1</td>\n",
       "    </tr>\n",
       "    <tr>\n",
       "      <th>...</th>\n",
       "      <td>...</td>\n",
       "      <td>...</td>\n",
       "      <td>...</td>\n",
       "    </tr>\n",
       "    <tr>\n",
       "      <th>113</th>\n",
       "      <td>-0.720620</td>\n",
       "      <td>0.538740</td>\n",
       "      <td>0</td>\n",
       "    </tr>\n",
       "    <tr>\n",
       "      <th>114</th>\n",
       "      <td>-0.593890</td>\n",
       "      <td>0.494880</td>\n",
       "      <td>0</td>\n",
       "    </tr>\n",
       "    <tr>\n",
       "      <th>115</th>\n",
       "      <td>-0.484450</td>\n",
       "      <td>0.999270</td>\n",
       "      <td>0</td>\n",
       "    </tr>\n",
       "    <tr>\n",
       "      <th>116</th>\n",
       "      <td>-0.006336</td>\n",
       "      <td>0.999270</td>\n",
       "      <td>0</td>\n",
       "    </tr>\n",
       "    <tr>\n",
       "      <th>117</th>\n",
       "      <td>0.632650</td>\n",
       "      <td>-0.030612</td>\n",
       "      <td>0</td>\n",
       "    </tr>\n",
       "  </tbody>\n",
       "</table>\n",
       "<p>118 rows × 3 columns</p>\n",
       "</div>"
      ],
      "text/plain": [
       "          R_1       R_2  Q\n",
       "0    0.051267  0.699560  1\n",
       "1   -0.092742  0.684940  1\n",
       "2   -0.213710  0.692250  1\n",
       "3   -0.375000  0.502190  1\n",
       "4   -0.513250  0.465640  1\n",
       "..        ...       ... ..\n",
       "113 -0.720620  0.538740  0\n",
       "114 -0.593890  0.494880  0\n",
       "115 -0.484450  0.999270  0\n",
       "116 -0.006336  0.999270  0\n",
       "117  0.632650 -0.030612  0\n",
       "\n",
       "[118 rows x 3 columns]"
      ]
     },
     "execution_count": 31,
     "metadata": {},
     "output_type": "execute_result"
    }
   ],
   "source": [
    "quality_data = pd.read_csv(\"quality_test.csv\")\n",
    "quality_data"
   ]
  },
  {
   "cell_type": "code",
   "execution_count": 32,
   "metadata": {},
   "outputs": [
    {
     "data": {
      "text/plain": [
       "R_1    0\n",
       "R_2    0\n",
       "Q      0\n",
       "dtype: int64"
      ]
     },
     "execution_count": 32,
     "metadata": {},
     "output_type": "execute_result"
    }
   ],
   "source": [
    "quality_data.isnull().sum()"
   ]
  },
  {
   "cell_type": "code",
   "execution_count": 33,
   "metadata": {},
   "outputs": [
    {
     "data": {
      "text/plain": [
       "0.75"
      ]
     },
     "execution_count": 33,
     "metadata": {},
     "output_type": "execute_result"
    }
   ],
   "source": [
    "x = quality_data.iloc[:,:-1]\n",
    "y = quality_data[\"Q\"]\n",
    "\n",
    "x_train , x_test , y_train , y_test = train_test_split(x,y,test_size=0.2,random_state=42)\n",
    "knn = KNeighborsClassifier(n_neighbors=5)\n",
    "knn.fit(x_train,y_train)\n",
    "y_pred = knn.predict(x_test)\n",
    "accuracy = accuracy_score(y_test,y_pred)\n",
    "accuracy"
   ]
  },
  {
   "cell_type": "code",
   "execution_count": 34,
   "metadata": {},
   "outputs": [
    {
     "name": "stdout",
     "output_type": "stream",
     "text": [
      "[(1, 0.625), (2, 0.7083333333333334), (3, 0.75), (4, 0.8333333333333334), (5, 0.75), (6, 0.8333333333333334), (7, 0.75), (8, 0.7083333333333334), (9, 0.7083333333333334), (10, 0.7083333333333334), (11, 0.6666666666666666), (12, 0.6666666666666666), (13, 0.625), (14, 0.5833333333333334), (15, 0.5833333333333334), (16, 0.5833333333333334), (17, 0.5833333333333334), (18, 0.5833333333333334), (19, 0.5833333333333334)]\n"
     ]
    }
   ],
   "source": [
    "score = []\n",
    "for k in range(1,20):\n",
    "    my_k_near = KNeighborsClassifier(n_neighbors=k)\n",
    "    my_k_near.fit(x_train,y_train)\n",
    "\n",
    "    y_pred= my_k_near.predict(x_test)\n",
    "    accuracy = accuracy_score(y_test,y_pred)\n",
    "    score.append((k,accuracy))\n",
    "print(score)    \n"
   ]
  },
  {
   "cell_type": "markdown",
   "metadata": {},
   "source": [
    "The best amount for k is equal to 6.\n"
   ]
  },
  {
   "cell_type": "markdown",
   "metadata": {},
   "source": [
    "L2_Regularization"
   ]
  },
  {
   "cell_type": "code",
   "execution_count": 35,
   "metadata": {},
   "outputs": [],
   "source": [
    "from sklearn.preprocessing import PolynomialFeatures\n",
    "from sklearn.linear_model import LinearRegression , Ridge\n",
    "from sklearn.metrics import mean_squared_error , r2_score\n"
   ]
  },
  {
   "cell_type": "code",
   "execution_count": 36,
   "metadata": {},
   "outputs": [
    {
     "name": "stdout",
     "output_type": "stream",
     "text": [
      "[ 0.          0.25442337  0.61225682 -0.97999243 -0.90725745 -0.97942279\n",
      "  0.09292791 -0.07863912 -0.20045087 -0.1551531  -0.54310696  0.63785257\n",
      " -0.11503654 -0.1830542  -0.52171209 -0.13502659 -0.39415648  0.62627083\n",
      " -0.00287851 -0.19895086 -0.00220677 -0.01049711  0.36394593 -0.13144384\n",
      "  0.55579846  0.09046761 -0.06847294 -0.05087762  0.24127741 -0.07862276\n",
      "  0.19665805 -0.14139674  0.51797513  0.18969146 -0.05618828  0.11222862]\n",
      "1.0425387094731884\n",
      "0.12132148841223307\n",
      "0.5147140463510678\n"
     ]
    }
   ],
   "source": [
    "poly = PolynomialFeatures(degree=7)\n",
    "x_train_poly = poly.fit_transform(x_train)\n",
    "x_test_poly = poly.fit_transform(x_test)\n",
    "\n",
    "model = Ridge(alpha=0.1)\n",
    "model.fit(x_train_poly,y_train)\n",
    "y_pred_ridge = model.predict(x_test_poly)\n",
    "\n",
    "modelcoeff = model.coef_\n",
    "intercept = model.intercept_\n",
    "mse = mean_squared_error(y_test,y_pred_ridge)\n",
    "r2 = r2_score(y_test,y_pred_ridge)\n",
    "print(modelcoeff)\n",
    "print(intercept)\n",
    "print(mse)\n",
    "print(r2)"
   ]
  },
  {
   "cell_type": "code",
   "execution_count": null,
   "metadata": {},
   "outputs": [],
   "source": []
  },
  {
   "cell_type": "code",
   "execution_count": null,
   "metadata": {},
   "outputs": [],
   "source": []
  }
 ],
 "metadata": {
  "kernelspec": {
   "display_name": "Python 3",
   "language": "python",
   "name": "python3"
  },
  "language_info": {
   "codemirror_mode": {
    "name": "ipython",
    "version": 3
   },
   "file_extension": ".py",
   "mimetype": "text/x-python",
   "name": "python",
   "nbconvert_exporter": "python",
   "pygments_lexer": "ipython3",
   "version": "3.11.5"
  }
 },
 "nbformat": 4,
 "nbformat_minor": 2
}
