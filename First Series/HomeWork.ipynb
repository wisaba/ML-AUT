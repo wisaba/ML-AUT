{
 "cells": [
  {
   "cell_type": "markdown",
   "metadata": {},
   "source": [
    "## Python"
   ]
  },
  {
   "cell_type": "markdown",
   "metadata": {},
   "source": [
    "-   Prime Number"
   ]
  },
  {
   "cell_type": "code",
   "execution_count": null,
   "metadata": {},
   "outputs": [],
   "source": [
    "x = input()\n",
    "x = int(x)\n",
    "flag = 0\n",
    "for i in range (2, x//2 +1):\n",
    "    if x % i == 0:\n",
    "        print(\"not prime\")\n",
    "        flag = 1\n",
    "        break\n",
    "if(flag == 0):\n",
    "    print(\"prime\")"
   ]
  },
  {
   "cell_type": "markdown",
   "metadata": {},
   "source": [
    "-   Reverse String"
   ]
  },
  {
   "cell_type": "code",
   "execution_count": null,
   "metadata": {},
   "outputs": [],
   "source": [
    "inp = input()\n",
    "for i in reversed (range(len(inp))) :\n",
    "    print(inp[i], end='')"
   ]
  },
  {
   "cell_type": "markdown",
   "metadata": {},
   "source": [
    "## Numpy"
   ]
  },
  {
   "cell_type": "markdown",
   "metadata": {},
   "source": [
    "-   A"
   ]
  },
  {
   "cell_type": "code",
   "execution_count": null,
   "metadata": {},
   "outputs": [],
   "source": [
    "import numpy as np\n",
    "aaray = np.random.randint(0,3,size=(3,3))\n",
    "aaray"
   ]
  },
  {
   "cell_type": "markdown",
   "metadata": {},
   "source": [
    "-   B"
   ]
  },
  {
   "cell_type": "code",
   "execution_count": null,
   "metadata": {},
   "outputs": [],
   "source": [
    "barray1 = np.random.randint(10,size=(3,3))\n",
    "barray2 = np.random.randint(20,size=(3,3))\n",
    "print(barray1)\n",
    "print(barray2)"
   ]
  },
  {
   "cell_type": "markdown",
   "metadata": {},
   "source": [
    "-   C"
   ]
  },
  {
   "cell_type": "code",
   "execution_count": null,
   "metadata": {},
   "outputs": [],
   "source": [
    "carray = np.random.randint(100,size = (10,10))\n",
    "print(carray)\n",
    "for i in range (0,10):\n",
    "    max = carray[i][0]\n",
    "    flag = 0\n",
    "    for j in range(0,10):\n",
    "        if carray[i][j] > max:\n",
    "            max = carray[i][j]\n",
    "            flag = j\n",
    "    carray[i][flag] = 0\n",
    "print(carray)"
   ]
  },
  {
   "cell_type": "markdown",
   "metadata": {},
   "source": [
    "-   D"
   ]
  },
  {
   "cell_type": "code",
   "execution_count": null,
   "metadata": {},
   "outputs": [],
   "source": [
    "darray = np.random.randint(64,size=(8,8))\n",
    "print(darray)"
   ]
  },
  {
   "cell_type": "markdown",
   "metadata": {},
   "source": [
    "## Pandas"
   ]
  },
  {
   "cell_type": "markdown",
   "metadata": {},
   "source": [
    "-   A"
   ]
  },
  {
   "cell_type": "code",
   "execution_count": null,
   "metadata": {},
   "outputs": [],
   "source": [
    "import pandas as pd\n",
    "df = pd.read_csv(\"Week2/HousingData.csv\")\n",
    "df.head()"
   ]
  },
  {
   "cell_type": "code",
   "execution_count": null,
   "metadata": {},
   "outputs": [],
   "source": [
    "df.info()"
   ]
  },
  {
   "cell_type": "code",
   "execution_count": null,
   "metadata": {},
   "outputs": [],
   "source": [
    "df.tail()"
   ]
  },
  {
   "cell_type": "markdown",
   "metadata": {},
   "source": [
    "-   B"
   ]
  },
  {
   "cell_type": "code",
   "execution_count": null,
   "metadata": {},
   "outputs": [],
   "source": [
    "average_price = df['MEDV'].mean()\n",
    "average_price"
   ]
  },
  {
   "cell_type": "markdown",
   "metadata": {},
   "source": [
    "-   C"
   ]
  },
  {
   "cell_type": "code",
   "execution_count": null,
   "metadata": {},
   "outputs": [],
   "source": [
    "df2 = df.query('MEDV > 25')\n",
    "count = df2.shape[0]\n",
    "count"
   ]
  },
  {
   "cell_type": "markdown",
   "metadata": {},
   "source": [
    "-   D"
   ]
  },
  {
   "cell_type": "code",
   "execution_count": null,
   "metadata": {},
   "outputs": [],
   "source": [
    "df3 = df.query('NOX > 0.5')\n",
    "count_nox = df3.shape[0]\n",
    "count_nox"
   ]
  },
  {
   "cell_type": "markdown",
   "metadata": {},
   "source": [
    "-   E"
   ]
  },
  {
   "cell_type": "code",
   "execution_count": null,
   "metadata": {},
   "outputs": [],
   "source": [
    "df4 = df.query('CRIM > 0.15 and TAX < 300')\n",
    "specific_df = df4[['CRIM', 'TAX']]\n",
    "specific_df.to_csv('Results/specific_df.csv')\n",
    "specific_df"
   ]
  },
  {
   "cell_type": "markdown",
   "metadata": {},
   "source": [
    "-   F"
   ]
  },
  {
   "cell_type": "code",
   "execution_count": null,
   "metadata": {},
   "outputs": [],
   "source": [
    "dropped_df = df.drop(['ZN','CHAS','AGE'],axis=1)\n",
    "dropped_df.to_csv('Results/dropped_df.csv')"
   ]
  },
  {
   "cell_type": "markdown",
   "metadata": {},
   "source": [
    "## Matplotlib"
   ]
  },
  {
   "cell_type": "markdown",
   "metadata": {},
   "source": [
    "-   A"
   ]
  },
  {
   "cell_type": "code",
   "execution_count": null,
   "metadata": {},
   "outputs": [],
   "source": [
    "import matplotlib.pyplot as plt\n",
    "import numpy as np\n",
    "x = np.random.normal(5,3,5000)\n",
    "plt.hist(x,color='green',bins=25,histtype='bar')\n",
    "plt.show()"
   ]
  },
  {
   "cell_type": "markdown",
   "metadata": {},
   "source": [
    "-   B"
   ]
  },
  {
   "cell_type": "code",
   "execution_count": 33,
   "metadata": {},
   "outputs": [
    {
     "data": {
      "image/png": "[encoded data removed]",
      "text/plain": [
       "<Figure size 640x480 with 1 Axes>"
      ]
     },
     "metadata": {},
     "output_type": "display_data"
    }
   ],
   "source": [
    "t = np.linspace(0,2*np.pi,10)\n",
    "a = 2\n",
    "b = 1\n",
    "c1 = 1\n",
    "c2 = 2\n",
    "x1 = c1*np.sin(t)+a\n",
    "y1 = (c1/2)*np.cos(2*t)+b\n",
    "x2 = c2 * np.sin(t) + a\n",
    "y2 = (c2 / 2) * np.cos(2 * t) + b\n",
    "plt.plot(x1,y1,'--g',label='c1')\n",
    "plt.plot(x2,y2,'--b',label='c2')\n",
    "plt.legend(['curve 1','curve 2'],loc = 'best')\n",
    "plt.axis('equal')\n",
    "plt.savefig('Results/plot.png',format = 'png',dpi = 200)\n",
    "plt.show()"
   ]
  }
 ],
 "metadata": {
  "kernelspec": {
   "display_name": "Python 3",
   "language": "python",
   "name": "python3"
  },
  "language_info": {
   "codemirror_mode": {
    "name": "ipython",
    "version": 3
   },
   "file_extension": ".py",
   "mimetype": "text/x-python",
   "name": "python",
   "nbconvert_exporter": "python",
   "pygments_lexer": "ipython3",
   "version": "3.11.4"
  },
  "orig_nbformat": 4
 },
 "nbformat": 4,
 "nbformat_minor": 2
}
